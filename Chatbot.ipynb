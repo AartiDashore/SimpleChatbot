{
  "nbformat": 4,
  "nbformat_minor": 0,
  "metadata": {
    "colab": {
      "provenance": []
    },
    "kernelspec": {
      "name": "python3",
      "display_name": "Python 3"
    },
    "language_info": {
      "name": "python"
    }
  },
  "cells": [
    {
      "cell_type": "code",
      "execution_count": 6,
      "metadata": {
        "colab": {
          "base_uri": "https://localhost:8080/"
        },
        "id": "2eE_wVc3gSUW",
        "outputId": "a1283535-4fff-4632-8186-2e5e68c2674a"
      },
      "outputs": [
        {
          "name": "stdout",
          "output_type": "stream",
          "text": [
            "Welcome to the chatbot!\n",
            "Chatbot: Hi there!\n",
            "Chatbot: Not too bad, thanks.\n",
            "Chatbot: I'm Chatbot, at your service!\n",
            "Chatbot: I'm sorry, I don't understand. Please try again or type 'quit' to exit.\n",
            "Chatbot: Farewell!\n",
            "You: quit\n"
          ]
        }
      ],
      "source": [
        "import random\n",
        "\n",
        "responses = {\n",
        "    \"hello\": [\"Hi there!\", \"Hello!\", \"Greetings!\"],\n",
        "    \"how are you\": [\"I'm doing well, thanks for asking!\", \"I'm good. How about you?\", \"Not too bad, thanks.\"],\n",
        "    \"what's your name\": [\"My name is Chatbot. How can I assist you today?\", \"I'm Chatbot, at your service!\"],\n",
        "    \"bye\": [\"Goodbye!\", \"Farewell!\", \"Take care!\"]\n",
        "}\n",
        "\n",
        "def chatbot():\n",
        "    print(\"Welcome to the chatbot!\")\n",
        "    while True:\n",
        "        user_input = input(\"You: \").lower()\n",
        "        if user_input == \"quit\":\n",
        "            break\n",
        "        elif user_input in responses:\n",
        "            bot_response = random.choice(responses[user_input])\n",
        "            print(\"Chatbot: \" + bot_response)\n",
        "        else:\n",
        "            print(\"Chatbot: I'm sorry, I don't understand. Please try again or type 'quit' to exit.\")\n",
        "\n",
        "chatbot()\n"
      ]
    }
  ]
}